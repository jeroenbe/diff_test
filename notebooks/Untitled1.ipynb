{
 "cells": [
  {
   "cell_type": "code",
   "execution_count": 1,
   "id": "b0d26e92-6ee4-486a-abfe-b862f3cfbfde",
   "metadata": {},
   "outputs": [],
   "source": [
    "import pandas as pd\n",
    "import igraph as ig\n",
    "import matplotlib.pyplot as plt\n",
    "import numpy as np\n",
    "\n",
    "from notears import linear, nonlinear, utils"
   ]
  },
  {
   "cell_type": "code",
   "execution_count": 2,
   "id": "717e0605-b276-4ffd-a09e-8c22a9d1277e",
   "metadata": {},
   "outputs": [],
   "source": [
    "def var_sort_lin(X_norm, d, sorting):\n",
    "    X_varsort = X.copy()\n",
    "    X_varsort[:, sorting] *= np.linspace(1, d, d)\n",
    "    return X_varsort"
   ]
  },
  {
   "cell_type": "code",
   "execution_count": 3,
   "id": "30f97af2-4997-4eb7-99ec-1860d23a5d69",
   "metadata": {},
   "outputs": [],
   "source": [
    "def varsortability(X, W, tol=1e-9):\n",
    "    \"\"\" Takes n x d data and a d x d adjaceny matrix,\n",
    "    where the i,j-th entry corresponds to the edge weight for i->j,\n",
    "    and returns a value indicating how well the variance order\n",
    "    reflects the causal order. \"\"\"\n",
    "    E = W != 0\n",
    "    Ek = E.copy()\n",
    "    var = np.var(X, axis=0, keepdims=True)\n",
    "\n",
    "    n_paths = 0\n",
    "    n_correctly_ordered_paths = 0\n",
    "\n",
    "    for _ in range(E.shape[0] - 1):\n",
    "        n_paths += Ek.sum()\n",
    "        n_correctly_ordered_paths += (Ek * var / var.T > 1 + tol).sum()\n",
    "        n_correctly_ordered_paths += 1/2*(\n",
    "            (Ek * var / var.T <= 1 + tol) *\n",
    "            (Ek * var / var.T >  1 - tol)).sum()\n",
    "        Ek = Ek.dot(E)\n",
    "\n",
    "    return n_correctly_ordered_paths / n_paths"
   ]
  },
  {
   "cell_type": "code",
   "execution_count": 4,
   "id": "5e10b121-e6f7-434d-8ba1-95314a7047ed",
   "metadata": {},
   "outputs": [],
   "source": [
    "d = 10\n",
    "n = 100\n",
    "s0 = 10\n",
    "graph_type = \"ER\" \n",
    "\n",
    "B_true = utils.simulate_dag(d, s0, graph_type)\n",
    "W = utils.simulate_parameter(B_true)\n",
    "X = utils.simulate_linear_sem(B_true, n, \"gauss\")"
   ]
  },
  {
   "cell_type": "code",
   "execution_count": 5,
   "id": "2d39fa69-1e03-41aa-a024-38f83f80d3f4",
   "metadata": {},
   "outputs": [
    {
     "data": {
      "text/plain": [
       "array([2.5406479 , 5.19532474, 5.19056424, 1.06724286, 2.82649845,\n",
       "       0.90646389, 2.45922192, 1.39976952, 0.98445567, 1.10665039])"
      ]
     },
     "execution_count": 5,
     "metadata": {},
     "output_type": "execute_result"
    }
   ],
   "source": [
    "X.std(axis=0)"
   ]
  },
  {
   "cell_type": "code",
   "execution_count": 6,
   "id": "c3525ae7-8fb4-4b2b-97f9-d8a95d4bd757",
   "metadata": {},
   "outputs": [
    {
     "name": "stdout",
     "output_type": "stream",
     "text": [
      "[3, 5, 8, 9, 7, 6, 0, 4, 1, 2]\n"
     ]
    }
   ],
   "source": [
    "g = ig.Graph.Adjacency(B_true, loops=False)\n",
    "g.vs[\"label\"] = list(range(d))\n",
    "\n",
    "sorting = g.topological_sorting()\n",
    "\n",
    "print(sorting)"
   ]
  },
  {
   "cell_type": "code",
   "execution_count": 7,
   "id": "9d2e689c-c089-41df-a126-95ce93202a2e",
   "metadata": {},
   "outputs": [
    {
     "name": "stdout",
     "output_type": "stream",
     "text": [
      "VS-original 1.0\n",
      "VS-normalised 0.5\n",
      "VS-controlled-lin 1.0\n"
     ]
    }
   ],
   "source": [
    "# ORIGINAL\n",
    "print(\"VS-original\", varsortability(X, W))\n",
    "\n",
    "# NORMALIZE\n",
    "X = (X  - X.mean(axis=0)) / X.std(axis=0)\n",
    "print(\"VS-normalised\", varsortability(X, W))\n",
    "\n",
    "\n",
    "# CONTROL VARSORT\n",
    "X = var_sort_lin(X, d, sorting)\n",
    "print(\"VS-controlled-lin\", varsortability(X, W))"
   ]
  },
  {
   "cell_type": "code",
   "execution_count": null,
   "id": "a35e78b5-7e0a-4ddd-80d7-780a105bd028",
   "metadata": {},
   "outputs": [],
   "source": [
    "X.std(axis=0)"
   ]
  },
  {
   "cell_type": "code",
   "execution_count": null,
   "id": "54324de6-c68a-4b29-b948-102624d21603",
   "metadata": {},
   "outputs": [],
   "source": [
    "X_.std(axis=0)"
   ]
  },
  {
   "cell_type": "code",
   "execution_count": null,
   "id": "6bab3408-a88c-4265-b8a3-62356c4fb442",
   "metadata": {},
   "outputs": [],
   "source": [
    "vars = np.logspace(1, d+1, d, base=0.5)\n",
    "vars = np.full(vars.shape, vars.max()) - vars\n",
    "vars /= (vars[-1] / (d+1))\n",
    "\n",
    "plt.plot(np.arange(0, d, 1), vars)\n"
   ]
  },
  {
   "cell_type": "code",
   "execution_count": null,
   "id": "dc33f1f4-6ffe-49d3-8e39-51fbe0057936",
   "metadata": {},
   "outputs": [],
   "source": [
    "np.full(vars.shape, 1)"
   ]
  },
  {
   "cell_type": "code",
   "execution_count": null,
   "id": "c0aa4b1d-698d-4594-a288-e63556b92da0",
   "metadata": {},
   "outputs": [],
   "source": [
    "varsortability(X, W)"
   ]
  },
  {
   "cell_type": "code",
   "execution_count": null,
   "id": "6b28de5c-7d50-4011-a387-0a5769307b21",
   "metadata": {},
   "outputs": [],
   "source": [
    "varsortability(X_"
   ]
  }
 ],
 "metadata": {
  "kernelspec": {
   "display_name": "cam (3.8.5)",
   "language": "python",
   "name": "cam"
  },
  "language_info": {
   "codemirror_mode": {
    "name": "ipython",
    "version": 3
   },
   "file_extension": ".py",
   "mimetype": "text/x-python",
   "name": "python",
   "nbconvert_exporter": "python",
   "pygments_lexer": "ipython3",
   "version": "3.8.5"
  }
 },
 "nbformat": 4,
 "nbformat_minor": 5
}
