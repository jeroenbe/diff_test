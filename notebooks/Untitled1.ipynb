{
 "cells": [
  {
   "cell_type": "code",
   "execution_count": 3,
   "id": "b0d26e92-6ee4-486a-abfe-b862f3cfbfde",
   "metadata": {},
   "outputs": [],
   "source": [
    "import pandas as pd\n",
    "import igraph as ig\n",
    "import matplotlib.pyplot as plt\n",
    "import numpy as np\n",
    "\n",
    "from notears import linear, nonlinear, utils"
   ]
  },
  {
   "cell_type": "code",
   "execution_count": 22,
   "id": "5e10b121-e6f7-434d-8ba1-95314a7047ed",
   "metadata": {},
   "outputs": [],
   "source": [
    "d = 10\n",
    "n = 100\n",
    "s0 = 10\n",
    "graph_type = \"ER\" \n",
    "\n",
    "B_true = utils.simulate_dag(d, s0, graph_type)\n",
    "W = utils.simulate_parameter(B_true)\n",
    "X = utils.simulate_linear_sem(B_true, n, \"gauss\")"
   ]
  },
  {
   "cell_type": "code",
   "execution_count": 23,
   "id": "2d39fa69-1e03-41aa-a024-38f83f80d3f4",
   "metadata": {},
   "outputs": [
    {
     "data": {
      "text/plain": [
       "array([2.35521909, 1.81861205, 2.75289236, 0.95933978, 4.68800836,\n",
       "       1.47043242, 0.99701459, 2.09769065, 2.01117479, 0.94668218])"
      ]
     },
     "execution_count": 23,
     "metadata": {},
     "output_type": "execute_result"
    }
   ],
   "source": [
    "X.std(axis=0)"
   ]
  },
  {
   "cell_type": "code",
   "execution_count": 24,
   "id": "c3525ae7-8fb4-4b2b-97f9-d8a95d4bd757",
   "metadata": {},
   "outputs": [
    {
     "name": "stdout",
     "output_type": "stream",
     "text": [
      "[3, 6, 9, 1, 5, 2, 7, 8, 4, 0]\n"
     ]
    }
   ],
   "source": [
    "g = ig.Graph.Adjacency(B_true, loops=False)\n",
    "g.vs[\"label\"] = list(range(d))\n",
    "\n",
    "sorting = g.topological_sorting()\n",
    "\n",
    "print(sorting)"
   ]
  },
  {
   "cell_type": "code",
   "execution_count": 68,
   "id": "9d2e689c-c089-41df-a126-95ce93202a2e",
   "metadata": {},
   "outputs": [],
   "source": [
    "# NORMALIZE\n",
    "X = (X  - X.mean(axis=0)) / X.std(axis=0)\n",
    "\n",
    "X_ = var_sort_lin(X, d, sorting)\n",
    "\n",
    "# CONTROL VARSORT\n",
    "X[:, sorting] *= np.linspace(1, 10, d)"
   ]
  },
  {
   "cell_type": "code",
   "execution_count": 69,
   "id": "a35e78b5-7e0a-4ddd-80d7-780a105bd028",
   "metadata": {},
   "outputs": [
    {
     "data": {
      "text/plain": [
       "array([10.,  4.,  6.,  1.,  9.,  5.,  2.,  7.,  8.,  3.])"
      ]
     },
     "execution_count": 69,
     "metadata": {},
     "output_type": "execute_result"
    }
   ],
   "source": [
    "X.std(axis=0)"
   ]
  },
  {
   "cell_type": "code",
   "execution_count": 70,
   "id": "54324de6-c68a-4b29-b948-102624d21603",
   "metadata": {},
   "outputs": [
    {
     "data": {
      "text/plain": [
       "array([10.,  4.,  6.,  1.,  9.,  5.,  2.,  7.,  8.,  3.])"
      ]
     },
     "execution_count": 70,
     "metadata": {},
     "output_type": "execute_result"
    }
   ],
   "source": [
    "X_.std(axis=0)"
   ]
  },
  {
   "cell_type": "code",
   "execution_count": 54,
   "id": "6bab3408-a88c-4265-b8a3-62356c4fb442",
   "metadata": {},
   "outputs": [
    {
     "data": {
      "text/plain": [
       "[<matplotlib.lines.Line2D at 0x7f9ff93f1e80>]"
      ]
     },
     "execution_count": 54,
     "metadata": {},
     "output_type": "execute_result"
    },
    {
     "data": {
      "image/png": "[encoded data removed]",
      "text/plain": [
       "<Figure size 640x480 with 1 Axes>"
      ]
     },
     "metadata": {},
     "output_type": "display_data"
    }
   ],
   "source": [
    "vars = np.logspace(1, d+1, d, base=0.5)\n",
    "vars = np.full(vars.shape, vars.max()) - vars\n",
    "vars /= (vars[-1] / (d+1))\n",
    "\n",
    "plt.plot(np.arange(0, d, 1), vars)\n"
   ]
  },
  {
   "cell_type": "code",
   "execution_count": 52,
   "id": "dc33f1f4-6ffe-49d3-8e39-51fbe0057936",
   "metadata": {},
   "outputs": [
    {
     "data": {
      "text/plain": [
       "array([1, 1, 1, 1, 1, 1, 1, 1, 1, 1])"
      ]
     },
     "execution_count": 52,
     "metadata": {},
     "output_type": "execute_result"
    }
   ],
   "source": [
    "np.full(vars.shape, 1)"
   ]
  },
  {
   "cell_type": "code",
   "execution_count": 67,
   "id": "717e0605-b276-4ffd-a09e-8c22a9d1277e",
   "metadata": {},
   "outputs": [],
   "source": [
    "def var_sort_lin(X_norm, d, sorting):\n",
    "    X_varsort = X.copy()\n",
    "    X_varsort[:, sorting] *= np.linspace(1, d, d)\n",
    "    return X_varsort"
   ]
  },
  {
   "cell_type": "code",
   "execution_count": null,
   "id": "30f97af2-4997-4eb7-99ec-1860d23a5d69",
   "metadata": {},
   "outputs": [],
   "source": []
  }
 ],
 "metadata": {
  "kernelspec": {
   "display_name": "cam (3.8.5)",
   "language": "python",
   "name": "cam"
  },
  "language_info": {
   "codemirror_mode": {
    "name": "ipython",
    "version": 3
   },
   "file_extension": ".py",
   "mimetype": "text/x-python",
   "name": "python",
   "nbconvert_exporter": "python",
   "pygments_lexer": "ipython3",
   "version": "3.8.5"
  }
 },
 "nbformat": 4,
 "nbformat_minor": 5
}
