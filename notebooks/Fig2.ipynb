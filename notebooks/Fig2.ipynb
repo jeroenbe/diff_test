{
 "cells": [
  {
   "cell_type": "code",
   "execution_count": 1,
   "id": "b0d26e92-6ee4-486a-abfe-b862f3cfbfde",
   "metadata": {},
   "outputs": [],
   "source": [
    "import pandas as pd\n",
    "import igraph as ig\n",
    "import matplotlib.pyplot as plt\n",
    "import numpy as np\n",
    "\n",
    "from sklearn.preprocessing import minmax_scale\n",
    "\n",
    "from notears import linear, nonlinear, utils\n",
    "\n",
    "from CausalDisco.analytics import (\n",
    "    var_sortability,\n",
    "    r2_sortability,\n",
    "    snr_sortability\n",
    ")"
   ]
  },
  {
   "cell_type": "code",
   "execution_count": 2,
   "id": "717e0605-b276-4ffd-a09e-8c22a9d1277e",
   "metadata": {},
   "outputs": [],
   "source": [
    "def var_sort_lin(X_norm, d, sorting):\n",
    "    X_varsorted = X_norm.copy()\n",
    "    \n",
    "    vars = np.linspace(1, d, d)\n",
    "\n",
    "    X_varsorted[:, sorting] *= vars\n",
    "    return X_varsorted\n",
    "\n",
    "def var_sort_lin_inv(X_norm, d, sorting):\n",
    "    X_varsorted = X_norm.copy()\n",
    "    \n",
    "    vars = np.linspace(d, 1, d)\n",
    "\n",
    "    X_varsorted[:, sorting] *= vars\n",
    "    return X_varsorted\n",
    "\n",
    "def var_sort_exp(X_norm, d, sorting):\n",
    "    X_varsorted = X_norm.copy()\n",
    "    \n",
    "    vars = np.logspace(1, d, d, base=2)\n",
    "    vars /= (vars[-1] / (d+1))\n",
    "    \n",
    "    X_varsorted[:, sorting] *= vars\n",
    "    return X_varsorted\n",
    "\n",
    "def var_sort_exp_inv(X_norm, d, sorting):\n",
    "    X_varsorted = X_norm.copy()\n",
    "\n",
    "    vars = np.logspace(1, d, d, base=2)\n",
    "    vars /= (vars[-1] / (d+1))\n",
    "    vars = vars[::-1]\n",
    "\n",
    "    X_varsorted[:, sorting] *= vars\n",
    "    return X_varsorted\n",
    "\n",
    "def var_sort_log(X_norm, d, sorting):\n",
    "    X_varsorted = X_norm.copy()\n",
    "\n",
    "    vars = np.logspace(1, d, d, base=0.5)\n",
    "    vars = np.full(vars.shape, vars.max()) - vars\n",
    "    vars = minmax_scale(vars, feature_range=(1, d))\n",
    "\n",
    "    X_varsorted[:, sorting] *= vars\n",
    "    return X_varsorted\n",
    "\n",
    "def var_sort_log_inv(X_norm, d, sorting):\n",
    "    X_varsorted = X_norm.copy()\n",
    "\n",
    "    vars = np.logspace(1, d, d, base=0.5)\n",
    "    vars = np.full(vars.shape, vars.max()) - vars\n",
    "    vars = minmax_scale(vars, feature_range=(1, d))\n",
    "    vars = vars[::-1]\n",
    "\n",
    "    X_varsorted[:, sorting] *= vars\n",
    "    return X_varsorted"
   ]
  },
  {
   "cell_type": "code",
   "execution_count": 9,
   "id": "5e10b121-e6f7-434d-8ba1-95314a7047ed",
   "metadata": {},
   "outputs": [],
   "source": [
    "d = 30\n",
    "n = 1000\n",
    "s0 = 40\n",
    "graph_type = \"ER\" \n",
    "\n",
    "B_true = utils.simulate_dag(d, s0, graph_type)\n",
    "W = utils.simulate_parameter(B_true)\n",
    "X = utils.simulate_linear_sem(W, n, \"gauss\")"
   ]
  },
  {
   "cell_type": "code",
   "execution_count": 10,
   "id": "2d39fa69-1e03-41aa-a024-38f83f80d3f4",
   "metadata": {},
   "outputs": [
    {
     "data": {
      "text/plain": [
       "array([ 0.99434307,  2.12417004,  3.41407501,  3.45950264, 12.34374197,\n",
       "        1.02293016,  1.75241781,  2.83139094,  1.86930739,  1.70561319,\n",
       "        4.69766821,  1.21909482,  2.03095911,  6.19377394,  1.87197683,\n",
       "        1.00257275,  1.00395284,  3.57353628,  0.99117597,  4.54685261,\n",
       "        1.84555526,  0.98917805,  5.77993461,  1.4743296 ,  2.41531321,\n",
       "        1.50326305,  7.1326341 ,  0.96509989,  0.97648681,  0.98540439])"
      ]
     },
     "execution_count": 10,
     "metadata": {},
     "output_type": "execute_result"
    }
   ],
   "source": [
    "X.std(axis=0)"
   ]
  },
  {
   "cell_type": "code",
   "execution_count": 11,
   "id": "c3525ae7-8fb4-4b2b-97f9-d8a95d4bd757",
   "metadata": {},
   "outputs": [
    {
     "name": "stdout",
     "output_type": "stream",
     "text": [
      "[0, 5, 15, 16, 18, 21, 27, 28, 29, 9, 14, 11, 1, 12, 6, 20, 23, 7, 19, 2, 3, 17, 8, 25, 13, 22, 10, 24, 26, 4]\n"
     ]
    }
   ],
   "source": [
    "g = ig.Graph.Adjacency(B_true, loops=False)\n",
    "g.vs[\"label\"] = list(range(d))\n",
    "\n",
    "sorting = g.topological_sorting()\n",
    "\n",
    "print(sorting)"
   ]
  },
  {
   "cell_type": "code",
   "execution_count": 12,
   "id": "9d2e689c-c089-41df-a126-95ce93202a2e",
   "metadata": {},
   "outputs": [
    {
     "name": "stdout",
     "output_type": "stream",
     "text": [
      "VS-original 0.9696969696969697\n",
      "R2-original 0.8080808080808081\n",
      "SNR-original 0.9696969696969697\n",
      "---\n",
      "VS-normalised 0.5858585858585859\n",
      "R2-normalised 0.8080808080808081\n",
      "SNR-normalised 0.9696969696969697\n",
      "---\n",
      "VS-controlled-log 1.0\n",
      "R2-controlled-log 0.8080808080808081\n",
      "SNR-controlled-log 0.9696969696969697\n"
     ]
    }
   ],
   "source": [
    "# ORIGINAL\n",
    "print(\"VS-original\", var_sortability(X, W))\n",
    "print(\"R2-original\", r2_sortability(X, W))\n",
    "print(\"SNR-original\", snr_sortability(X, W))\n",
    "print(\"---\")\n",
    "\n",
    "# NORMALIZE\n",
    "X = (X  - X.mean(axis=0)) / X.std(axis=0)\n",
    "print(\"VS-normalised\", var_sortability(X, W))\n",
    "print(\"R2-normalised\", r2_sortability(X, W))\n",
    "print(\"SNR-normalised\", snr_sortability(X, W))\n",
    "print(\"---\")\n",
    "\n",
    "# CONTROL VARSORT\n",
    "X = var_sort_log(X, d, sorting)\n",
    "print(\"VS-controlled-log\", var_sortability(X, W))\n",
    "print(\"R2-controlled-log\", r2_sortability(X, W))\n",
    "print(\"SNR-controlled-log\", snr_sortability(X, W))"
   ]
  },
  {
   "cell_type": "code",
   "execution_count": 17,
   "id": "a35e78b5-7e0a-4ddd-80d7-780a105bd028",
   "metadata": {
    "scrolled": true
   },
   "outputs": [],
   "source": [
    "simpleDAG = np.array([\n",
    "    [0, 1, 0, 0, 0, 0, 0, 0, 0, 0],\n",
    "    [0, 0, 1, 0, 0, 0, 0, 0, 0, 0],\n",
    "    [0, 0, 0, 1, 0, 0, 0, 0, 0, 0],\n",
    "    [0, 0, 0, 0, 1, 0, 0, 0, 0, 0],\n",
    "    [0, 0, 0, 0, 0, 1, 0, 0, 0, 0],\n",
    "    [0, 0, 0, 0, 0, 0, 1, 0, 0, 0],\n",
    "    [0, 0, 0, 0, 0, 0, 0, 1, 0, 0],\n",
    "    [0, 0, 0, 0, 0, 0, 0, 0, 1, 0],\n",
    "    [0, 0, 0, 0, 0, 0, 0, 0, 0, 1],\n",
    "    [0, 0, 0, 0, 0, 0, 0, 0, 0, 0],\n",
    "])\n",
    "# A -> B -> C -> ... -> J\n",
    "\n",
    "simpleW = utils.simulate_parameter(simpleDAG)\n",
    "simpleX = utils.simulate_linear_sem(simpleW, n, \"gauss\")\n",
    "\n",
    "g = ig.Graph.Adjacency(simpleDAG, loops=False)\n",
    "g.vs[\"label\"] = list(range(10))\n",
    "\n",
    "simplesorting = g.topological_sorting()"
   ]
  },
  {
   "cell_type": "code",
   "execution_count": 19,
   "id": "54324de6-c68a-4b29-b948-102624d21603",
   "metadata": {},
   "outputs": [
    {
     "name": "stdout",
     "output_type": "stream",
     "text": [
      "VS-original 0.0\n",
      "R2-original 0.9111111111111111\n",
      "SNR-original 0.9555555555555556\n",
      "---\n",
      "VS-normalised 0.4888888888888889\n",
      "R2-normalised 0.9111111111111111\n",
      "SNR-normalised 0.9555555555555556\n",
      "---\n",
      "VS-controlled-log 1.0\n",
      "R2-controlled-log 0.9111111111111111\n",
      "SNR-controlled-log 0.9555555555555556\n",
      "---\n",
      "VS-controlled-lin 1.0\n",
      "R2-controlled-lin 0.9111111111111111\n",
      "SNR-controlled-lin 0.9555555555555556\n",
      "---\n",
      "VS-controlled-exp 1.0\n",
      "R2-controlled-exp 0.9111111111111111\n",
      "SNR-controlled-exp 0.9555555555555556\n",
      "---\n",
      "VS-controlled-log-inv 0.0\n",
      "R2-controlled-log-inv 0.9111111111111111\n",
      "SNR-controlled-log-inv 0.9555555555555556\n",
      "---\n",
      "VS-controlled-lin-inv 0.0\n",
      "R2-controlled-lin-inv 0.9111111111111111\n",
      "SNR-controlled-lin-inv 0.9555555555555556\n",
      "---\n",
      "VS-controlled-exp-inv 0.0\n",
      "R2-controlled-exp-inv 0.9111111111111111\n",
      "SNR-controlled-exp-inv 0.9555555555555556\n"
     ]
    }
   ],
   "source": [
    "# ORIGINAL\n",
    "print(\"VS-original\", var_sortability(simpleX, simpleW))\n",
    "print(\"R2-original\", r2_sortability(simpleX, simpleW))\n",
    "print(\"SNR-original\", snr_sortability(simpleX, simpleW))\n",
    "print(\"---\")\n",
    "\n",
    "# NORMALIZE\n",
    "normalised_simpleX = (simpleX  - simpleX.mean(axis=0)) / simpleX.std(axis=0)\n",
    "print(\"VS-normalised\", var_sortability(normalised_simpleX, simpleW))\n",
    "print(\"R2-normalised\", r2_sortability(normalised_simpleX, simpleW))\n",
    "print(\"SNR-normalised\", snr_sortability(normalised_simpleX, simpleW))\n",
    "print(\"---\")\n",
    "\n",
    "# CONTROL VARSORT LOG\n",
    "simpleX = var_sort_log(normalised_simpleX, 10, simplesorting)\n",
    "print(\"VS-controlled-log\", var_sortability(simpleX, simpleW))\n",
    "print(\"R2-controlled-log\", r2_sortability(simpleX, simpleW))\n",
    "print(\"SNR-controlled-log\", snr_sortability(simpleX, simpleW))\n",
    "print(\"---\")\n",
    "\n",
    "# CONTROL VARSORT LIN\n",
    "simpleX = var_sort_lin(normalised_simpleX, 10, simplesorting)\n",
    "print(\"VS-controlled-lin\", var_sortability(simpleX, simpleW))\n",
    "print(\"R2-controlled-lin\", r2_sortability(simpleX, simpleW))\n",
    "print(\"SNR-controlled-lin\", snr_sortability(simpleX, simpleW))\n",
    "print(\"---\")\n",
    "\n",
    "# CONTROL VARSORT EXP\n",
    "simpleX = var_sort_exp(normalised_simpleX, 10, simplesorting)\n",
    "print(\"VS-controlled-exp\", var_sortability(simpleX, simpleW))\n",
    "print(\"R2-controlled-exp\", r2_sortability(simpleX, simpleW))\n",
    "print(\"SNR-controlled-exp\", snr_sortability(simpleX, simpleW))\n",
    "print(\"---\")\n",
    "\n",
    "# CONTROL VARSORT LOG INV\n",
    "simpleX = var_sort_log_inv(normalised_simpleX, 10, simplesorting)\n",
    "print(\"VS-controlled-log-inv\", var_sortability(simpleX, simpleW))\n",
    "print(\"R2-controlled-log-inv\", r2_sortability(simpleX, simpleW))\n",
    "print(\"SNR-controlled-log-inv\", snr_sortability(simpleX, simpleW))\n",
    "print(\"---\")\n",
    "\n",
    "# CONTROL VARSORT LIN INV\n",
    "simpleX = var_sort_lin_inv(normalised_simpleX, 10, simplesorting)\n",
    "print(\"VS-controlled-lin-inv\", var_sortability(simpleX, simpleW))\n",
    "print(\"R2-controlled-lin-inv\", r2_sortability(simpleX, simpleW))\n",
    "print(\"SNR-controlled-lin-inv\", snr_sortability(simpleX, simpleW))\n",
    "print(\"---\")\n",
    "\n",
    "# CONTROL VARSORT EXP INV\n",
    "simpleX = var_sort_exp_inv(normalised_simpleX, 10, simplesorting)\n",
    "print(\"VS-controlled-exp-inv\", var_sortability(simpleX, simpleW))\n",
    "print(\"R2-controlled-exp-inv\", r2_sortability(simpleX, simpleW))\n",
    "print(\"SNR-controlled-exp-inv\", snr_sortability(simpleX, simpleW))"
   ]
  },
  {
   "cell_type": "code",
   "execution_count": null,
   "id": "dc33f1f4-6ffe-49d3-8e39-51fbe0057936",
   "metadata": {},
   "outputs": [],
   "source": [
    "vars = np.logspace(1, d, d, base=0.5)\n",
    "vars = np.full(vars.shape, vars.max()) - vars\n",
    "vars = minmax_scale(vars, feature_range=(1, d))\n",
    "vars = vars[::-1]\n",
    "\n",
    "vars"
   ]
  },
  {
   "cell_type": "code",
   "execution_count": null,
   "id": "c0aa4b1d-698d-4594-a288-e63556b92da0",
   "metadata": {},
   "outputs": [],
   "source": [
    "varsortability(X, W)"
   ]
  },
  {
   "cell_type": "code",
   "execution_count": null,
   "id": "6b28de5c-7d50-4011-a387-0a5769307b21",
   "metadata": {},
   "outputs": [],
   "source": [
    "varsortability(X_"
   ]
  }
 ],
 "metadata": {
  "kernelspec": {
   "display_name": "cam (3.8.5)",
   "language": "python",
   "name": "cam"
  },
  "language_info": {
   "codemirror_mode": {
    "name": "ipython",
    "version": 3
   },
   "file_extension": ".py",
   "mimetype": "text/x-python",
   "name": "python",
   "nbconvert_exporter": "python",
   "pygments_lexer": "ipython3",
   "version": "3.8.5"
  }
 },
 "nbformat": 4,
 "nbformat_minor": 5
}
